{
 "cells": [
  {
   "cell_type": "markdown",
   "metadata": {},
   "source": [
    "## 常识性预测：\n",
    "1. 最简单的方式：在不考虑weather poi 等其他一切因素的影响，单单把工作日和节假日区别开来。来进行第一次初步预测。看看结果\n",
    "2. 加入天气因素"
   ]
  },
  {
   "cell_type": "code",
   "execution_count": 3,
   "metadata": {
    "collapsed": true
   },
   "outputs": [],
   "source": [
    "import numpy as np\n",
    "import pandas as pd\n",
    "import matplotlib.pyplot as plt\n",
    "from datetime import datetime"
   ]
  },
  {
   "cell_type": "markdown",
   "metadata": {},
   "source": [
    "### 最简预测：\n",
    "- 不考虑天气等等因素影响。\n",
    "- 单单做工作日和非工作日区别，用单日代表法来预测。\n",
    "- 使用 2016-01-15 作为工作日的数据代表 df1\n",
    "- 使用 2016-01-16 作为非工作日的数据代表 df0\n",
    "- 结合数据df10 做一个 数据查询表(ref_dict)\n",
    "- 在 所要预测的 2016-01-22 到 2016-01-28 中，只有 23，24日是非工作日,因此建立对应关系。\n",
    "- 得到 最简预测值。"
   ]
  },
  {
   "cell_type": "code",
   "execution_count": 5,
   "metadata": {
    "collapsed": false
   },
   "outputs": [
    {
     "data": {
      "text/html": [
       "<div>\n",
       "<table border=\"1\" class=\"dataframe\">\n",
       "  <thead>\n",
       "    <tr style=\"text-align: right;\">\n",
       "      <th></th>\n",
       "      <th>district_id</th>\n",
       "      <th>time_id</th>\n",
       "      <th>gap</th>\n",
       "      <th>is_workd</th>\n",
       "    </tr>\n",
       "  </thead>\n",
       "  <tbody>\n",
       "    <tr>\n",
       "      <th>0</th>\n",
       "      <td>1</td>\n",
       "      <td>1</td>\n",
       "      <td>4</td>\n",
       "      <td>1</td>\n",
       "    </tr>\n",
       "    <tr>\n",
       "      <th>1</th>\n",
       "      <td>1</td>\n",
       "      <td>2</td>\n",
       "      <td>7</td>\n",
       "      <td>1</td>\n",
       "    </tr>\n",
       "    <tr>\n",
       "      <th>2</th>\n",
       "      <td>1</td>\n",
       "      <td>3</td>\n",
       "      <td>7</td>\n",
       "      <td>1</td>\n",
       "    </tr>\n",
       "    <tr>\n",
       "      <th>3</th>\n",
       "      <td>1</td>\n",
       "      <td>4</td>\n",
       "      <td>0</td>\n",
       "      <td>1</td>\n",
       "    </tr>\n",
       "    <tr>\n",
       "      <th>4</th>\n",
       "      <td>1</td>\n",
       "      <td>5</td>\n",
       "      <td>1</td>\n",
       "      <td>1</td>\n",
       "    </tr>\n",
       "  </tbody>\n",
       "</table>\n",
       "</div>"
      ],
      "text/plain": [
       "   district_id  time_id  gap  is_workd\n",
       "0            1        1    4         1\n",
       "1            1        2    7         1\n",
       "2            1        3    7         1\n",
       "3            1        4    0         1\n",
       "4            1        5    1         1"
      ]
     },
     "execution_count": 5,
     "metadata": {},
     "output_type": "execute_result"
    }
   ],
   "source": [
    "for i in [15,16]:\n",
    "    if i ==15:\n",
    "        df1 = pd.read_csv('./order_data_2016-01-{}_gap.csv'.format(i),delimiter=',')\n",
    "        df1[\"is_workd\"] = np.ones_like(df1.index)\n",
    "    if i ==16:\n",
    "        df0 = pd.read_csv('./order_data_2016-01-{}_gap.csv'.format(i),delimiter=',')\n",
    "        df0[\"is_workd\"] = np.zeros_like(df0.index)\n",
    "df10 = pd.concat([df1,df0]);df10.head()\n",
    "#     upload_data = pd.read_csv('season_1/test_0.csv',header=None)\n",
    "    "
   ]
  },
  {
   "cell_type": "code",
   "execution_count": 15,
   "metadata": {
    "collapsed": false
   },
   "outputs": [],
   "source": [
    "df_test = df10.copy()\n",
    "# 加 uid 一栏，格式为  “1-1-1” \n",
    "df_test[\"uid\"] = df_test.district_id.astype(np.str) + \"-\" + df_test.time_id.astype(np.str) + \"-\" + df_test.is_workd.astype(np.str)\n"
   ]
  },
  {
   "cell_type": "code",
   "execution_count": 24,
   "metadata": {
    "collapsed": false
   },
   "outputs": [
    {
     "data": {
      "text/html": [
       "<div>\n",
       "<table border=\"1\" class=\"dataframe\">\n",
       "  <thead>\n",
       "    <tr style=\"text-align: right;\">\n",
       "      <th></th>\n",
       "      <th>gap</th>\n",
       "    </tr>\n",
       "    <tr>\n",
       "      <th>uid</th>\n",
       "      <th></th>\n",
       "    </tr>\n",
       "  </thead>\n",
       "  <tbody>\n",
       "    <tr>\n",
       "      <th>1-1-1</th>\n",
       "      <td>4</td>\n",
       "    </tr>\n",
       "    <tr>\n",
       "      <th>1-2-1</th>\n",
       "      <td>7</td>\n",
       "    </tr>\n",
       "    <tr>\n",
       "      <th>1-3-1</th>\n",
       "      <td>7</td>\n",
       "    </tr>\n",
       "    <tr>\n",
       "      <th>1-4-1</th>\n",
       "      <td>0</td>\n",
       "    </tr>\n",
       "    <tr>\n",
       "      <th>1-5-1</th>\n",
       "      <td>1</td>\n",
       "    </tr>\n",
       "  </tbody>\n",
       "</table>\n",
       "</div>"
      ],
      "text/plain": [
       "       gap\n",
       "uid       \n",
       "1-1-1    4\n",
       "1-2-1    7\n",
       "1-3-1    7\n",
       "1-4-1    0\n",
       "1-5-1    1"
      ]
     },
     "execution_count": 24,
     "metadata": {},
     "output_type": "execute_result"
    }
   ],
   "source": [
    "# 构建一个 类字典，可以用来 加入预测值\n",
    "df_ref = df_test.set_index(\"uid\")\n",
    "df_ref = df_ref.drop([\"district_id\",\"time_id\",\"is_workd\"],axis=1);df_ref.head()"
   ]
  },
  {
   "cell_type": "code",
   "execution_count": 119,
   "metadata": {
    "collapsed": false
   },
   "outputs": [
    {
     "data": {
      "text/plain": [
       "Series([], Name: gap, dtype: int64)"
      ]
     },
     "execution_count": 119,
     "metadata": {},
     "output_type": "execute_result"
    }
   ],
   "source": [
    "# 测试发现一些值是缺失的\n",
    "a = df_ref.ix[df_ref.index == '10-142-0','gap'];a"
   ]
  },
  {
   "cell_type": "code",
   "execution_count": 120,
   "metadata": {
    "collapsed": false
   },
   "outputs": [],
   "source": [
    "#构造字典\n",
    "# a = df_ref.ix[df_ref.index == '1-1-1','gap'].values;int(a)\n",
    "ref_dict = dict(list(zip(df_ref.index, df_ref.gap)))\n"
   ]
  },
  {
   "cell_type": "markdown",
   "metadata": {},
   "source": [
    "#### 构造目标数据集"
   ]
  },
  {
   "cell_type": "code",
   "execution_count": 46,
   "metadata": {
    "collapsed": true
   },
   "outputs": [],
   "source": [
    "test = pd.read_csv('season_1/test_0.csv',header=None)"
   ]
  },
  {
   "cell_type": "code",
   "execution_count": 47,
   "metadata": {
    "collapsed": false
   },
   "outputs": [
    {
     "data": {
      "text/html": [
       "<div>\n",
       "<table border=\"1\" class=\"dataframe\">\n",
       "  <thead>\n",
       "    <tr style=\"text-align: right;\">\n",
       "      <th></th>\n",
       "      <th>district_id</th>\n",
       "      <th>time_stamp</th>\n",
       "      <th>is_workd</th>\n",
       "      <th>time_id</th>\n",
       "    </tr>\n",
       "  </thead>\n",
       "  <tbody>\n",
       "    <tr>\n",
       "      <th>0</th>\n",
       "      <td>1</td>\n",
       "      <td>2016-01-22-46</td>\n",
       "      <td>1</td>\n",
       "      <td>46</td>\n",
       "    </tr>\n",
       "    <tr>\n",
       "      <th>1</th>\n",
       "      <td>2</td>\n",
       "      <td>2016-01-22-46</td>\n",
       "      <td>1</td>\n",
       "      <td>46</td>\n",
       "    </tr>\n",
       "    <tr>\n",
       "      <th>2</th>\n",
       "      <td>3</td>\n",
       "      <td>2016-01-22-46</td>\n",
       "      <td>1</td>\n",
       "      <td>46</td>\n",
       "    </tr>\n",
       "    <tr>\n",
       "      <th>3</th>\n",
       "      <td>4</td>\n",
       "      <td>2016-01-22-46</td>\n",
       "      <td>1</td>\n",
       "      <td>46</td>\n",
       "    </tr>\n",
       "    <tr>\n",
       "      <th>4</th>\n",
       "      <td>5</td>\n",
       "      <td>2016-01-22-46</td>\n",
       "      <td>1</td>\n",
       "      <td>46</td>\n",
       "    </tr>\n",
       "  </tbody>\n",
       "</table>\n",
       "</div>"
      ],
      "text/plain": [
       "   district_id     time_stamp  is_workd time_id\n",
       "0            1  2016-01-22-46         1      46\n",
       "1            2  2016-01-22-46         1      46\n",
       "2            3  2016-01-22-46         1      46\n",
       "3            4  2016-01-22-46         1      46\n",
       "4            5  2016-01-22-46         1      46"
      ]
     },
     "execution_count": 47,
     "metadata": {},
     "output_type": "execute_result"
    }
   ],
   "source": [
    "test[\"day\"] = test[1].apply(lambda x: x.split(\"-\")[2])\n",
    "test[\"is_workd\"] = test[\"day\"].apply(lambda x: 0 if x in [\"23\",\"24\"] else 1)\n",
    "test[\"time_id\"] = test[1].apply(lambda x: x.split(\"-\")[-1])\n",
    "test = test.drop(\"day\", axis =1)\n",
    "test.columns =[\"district_id\",\"time_stamp\",\"gap\",\"is_workd\",\"time_id\"]\n",
    "test = test.drop(\"gap\",axis =1)\n",
    "test.head()"
   ]
  },
  {
   "cell_type": "code",
   "execution_count": 49,
   "metadata": {
    "collapsed": false
   },
   "outputs": [
    {
     "name": "stderr",
     "output_type": "stream",
     "text": [
      "/Users/whale/.pyenv/versions/anaconda3-4.0.0/lib/python3.5/site-packages/ipykernel/__main__.py:1: FutureWarning: sort(columns=....) is deprecated, use sort_values(by=.....)\n",
      "  if __name__ == '__main__':\n"
     ]
    },
    {
     "data": {
      "text/html": [
       "<div>\n",
       "<table border=\"1\" class=\"dataframe\">\n",
       "  <thead>\n",
       "    <tr style=\"text-align: right;\">\n",
       "      <th></th>\n",
       "      <th>district_id</th>\n",
       "      <th>time_stamp</th>\n",
       "      <th>is_workd</th>\n",
       "      <th>time_id</th>\n",
       "      <th>uid</th>\n",
       "    </tr>\n",
       "  </thead>\n",
       "  <tbody>\n",
       "    <tr>\n",
       "      <th>858</th>\n",
       "      <td>1</td>\n",
       "      <td>2016-01-24-106</td>\n",
       "      <td>0</td>\n",
       "      <td>106</td>\n",
       "      <td>1-106-0</td>\n",
       "    </tr>\n",
       "    <tr>\n",
       "      <th>924</th>\n",
       "      <td>1</td>\n",
       "      <td>2016-01-24-118</td>\n",
       "      <td>0</td>\n",
       "      <td>118</td>\n",
       "      <td>1-118-0</td>\n",
       "    </tr>\n",
       "    <tr>\n",
       "      <th>990</th>\n",
       "      <td>1</td>\n",
       "      <td>2016-01-24-130</td>\n",
       "      <td>0</td>\n",
       "      <td>130</td>\n",
       "      <td>1-130-0</td>\n",
       "    </tr>\n",
       "    <tr>\n",
       "      <th>1056</th>\n",
       "      <td>1</td>\n",
       "      <td>2016-01-24-142</td>\n",
       "      <td>0</td>\n",
       "      <td>142</td>\n",
       "      <td>1-142-0</td>\n",
       "    </tr>\n",
       "    <tr>\n",
       "      <th>594</th>\n",
       "      <td>1</td>\n",
       "      <td>2016-01-24-58</td>\n",
       "      <td>0</td>\n",
       "      <td>58</td>\n",
       "      <td>1-58-0</td>\n",
       "    </tr>\n",
       "  </tbody>\n",
       "</table>\n",
       "</div>"
      ],
      "text/plain": [
       "      district_id      time_stamp  is_workd time_id      uid\n",
       "858             1  2016-01-24-106         0     106  1-106-0\n",
       "924             1  2016-01-24-118         0     118  1-118-0\n",
       "990             1  2016-01-24-130         0     130  1-130-0\n",
       "1056            1  2016-01-24-142         0     142  1-142-0\n",
       "594             1   2016-01-24-58         0      58   1-58-0"
      ]
     },
     "execution_count": 49,
     "metadata": {},
     "output_type": "execute_result"
    }
   ],
   "source": [
    "test = test.sort(['is_workd', 'district_id',\"time_id\"], ascending=[1,1,1]);\n",
    "test[\"uid\"] =  test.district_id.astype(np.str) + \"-\" + test.time_id.astype(np.str) + \"-\" + test.is_workd.astype(np.str)\n",
    "test.head()"
   ]
  },
  {
   "cell_type": "code",
   "execution_count": 113,
   "metadata": {
    "collapsed": false
   },
   "outputs": [
    {
     "data": {
      "text/plain": [
       "0.07787174066243834"
      ]
     },
     "execution_count": 113,
     "metadata": {},
     "output_type": "execute_result"
    }
   ],
   "source": [
    "# 有一些值在ref_dict中是缺失的，\n",
    "\n",
    "no_ref_list = [ uid for uid in test.uid if uid not in df_ref.index]\n",
    "# 比例为7.8%: 暂时用 0替代\n",
    "len(no_ref_list)/len(test.index)"
   ]
  },
  {
   "cell_type": "code",
   "execution_count": 112,
   "metadata": {
    "collapsed": false
   },
   "outputs": [
    {
     "data": {
      "text/html": [
       "<div>\n",
       "<table border=\"1\" class=\"dataframe\">\n",
       "  <thead>\n",
       "    <tr style=\"text-align: right;\">\n",
       "      <th></th>\n",
       "      <th>district_id</th>\n",
       "      <th>time_stamp</th>\n",
       "      <th>is_workd</th>\n",
       "      <th>time_id</th>\n",
       "      <th>uid</th>\n",
       "      <th>map_gap</th>\n",
       "    </tr>\n",
       "  </thead>\n",
       "  <tbody>\n",
       "    <tr>\n",
       "      <th>858</th>\n",
       "      <td>1</td>\n",
       "      <td>2016-01-24-106</td>\n",
       "      <td>0</td>\n",
       "      <td>106</td>\n",
       "      <td>1-106-0</td>\n",
       "      <td>8</td>\n",
       "    </tr>\n",
       "    <tr>\n",
       "      <th>924</th>\n",
       "      <td>1</td>\n",
       "      <td>2016-01-24-118</td>\n",
       "      <td>0</td>\n",
       "      <td>118</td>\n",
       "      <td>1-118-0</td>\n",
       "      <td>5</td>\n",
       "    </tr>\n",
       "    <tr>\n",
       "      <th>990</th>\n",
       "      <td>1</td>\n",
       "      <td>2016-01-24-130</td>\n",
       "      <td>0</td>\n",
       "      <td>130</td>\n",
       "      <td>1-130-0</td>\n",
       "      <td>6</td>\n",
       "    </tr>\n",
       "    <tr>\n",
       "      <th>1056</th>\n",
       "      <td>1</td>\n",
       "      <td>2016-01-24-142</td>\n",
       "      <td>0</td>\n",
       "      <td>142</td>\n",
       "      <td>1-142-0</td>\n",
       "      <td>2</td>\n",
       "    </tr>\n",
       "    <tr>\n",
       "      <th>594</th>\n",
       "      <td>1</td>\n",
       "      <td>2016-01-24-58</td>\n",
       "      <td>0</td>\n",
       "      <td>58</td>\n",
       "      <td>1-58-0</td>\n",
       "      <td>4</td>\n",
       "    </tr>\n",
       "  </tbody>\n",
       "</table>\n",
       "</div>"
      ],
      "text/plain": [
       "      district_id      time_stamp  is_workd time_id      uid  map_gap\n",
       "858             1  2016-01-24-106         0     106  1-106-0        8\n",
       "924             1  2016-01-24-118         0     118  1-118-0        5\n",
       "990             1  2016-01-24-130         0     130  1-130-0        6\n",
       "1056            1  2016-01-24-142         0     142  1-142-0        2\n",
       "594             1   2016-01-24-58         0      58   1-58-0        4"
      ]
     },
     "execution_count": 112,
     "metadata": {},
     "output_type": "execute_result"
    }
   ],
   "source": [
    "test[\"map_gap\"] = np.zeros_like(test.index)\n",
    "test[\"map_gap\"] = test.uid.apply(lambda x: ref_dict[x] if x not in no_ref_list else 0);test.head()"
   ]
  },
  {
   "cell_type": "code",
   "execution_count": 117,
   "metadata": {
    "collapsed": false
   },
   "outputs": [
    {
     "data": {
      "text/html": [
       "<div>\n",
       "<table border=\"1\" class=\"dataframe\">\n",
       "  <thead>\n",
       "    <tr style=\"text-align: right;\">\n",
       "      <th></th>\n",
       "      <th>district_id</th>\n",
       "      <th>time_stamp</th>\n",
       "      <th>map_gap</th>\n",
       "    </tr>\n",
       "  </thead>\n",
       "  <tbody>\n",
       "    <tr>\n",
       "      <th>858</th>\n",
       "      <td>1</td>\n",
       "      <td>2016-01-24-106</td>\n",
       "      <td>8.0</td>\n",
       "    </tr>\n",
       "    <tr>\n",
       "      <th>924</th>\n",
       "      <td>1</td>\n",
       "      <td>2016-01-24-118</td>\n",
       "      <td>5.0</td>\n",
       "    </tr>\n",
       "    <tr>\n",
       "      <th>990</th>\n",
       "      <td>1</td>\n",
       "      <td>2016-01-24-130</td>\n",
       "      <td>6.0</td>\n",
       "    </tr>\n",
       "    <tr>\n",
       "      <th>1056</th>\n",
       "      <td>1</td>\n",
       "      <td>2016-01-24-142</td>\n",
       "      <td>2.0</td>\n",
       "    </tr>\n",
       "    <tr>\n",
       "      <th>594</th>\n",
       "      <td>1</td>\n",
       "      <td>2016-01-24-58</td>\n",
       "      <td>4.0</td>\n",
       "    </tr>\n",
       "  </tbody>\n",
       "</table>\n",
       "</div>"
      ],
      "text/plain": [
       "      district_id      time_stamp  map_gap\n",
       "858             1  2016-01-24-106      8.0\n",
       "924             1  2016-01-24-118      5.0\n",
       "990             1  2016-01-24-130      6.0\n",
       "1056            1  2016-01-24-142      2.0\n",
       "594             1   2016-01-24-58      4.0"
      ]
     },
     "execution_count": 117,
     "metadata": {},
     "output_type": "execute_result"
    }
   ],
   "source": [
    "test_output = test.copy()\n",
    "test_output = test_output.drop(['is_workd','time_id','uid'],axis =1)\n",
    "test_output['map_gap'] = test_output.map_gap.astype('double');test_output.head()"
   ]
  },
  {
   "cell_type": "code",
   "execution_count": 118,
   "metadata": {
    "collapsed": true
   },
   "outputs": [],
   "source": [
    "# 输出文件\n",
    "test_output.to_csv('test_upload_20160531.csv',header=False,index=False)"
   ]
  },
  {
   "cell_type": "code",
   "execution_count": null,
   "metadata": {
    "collapsed": true
   },
   "outputs": [],
   "source": [
    "# result = pd.merge(test, df10, how='inner', on=['district_id', 'time_id','is_workd'])"
   ]
  }
 ],
 "metadata": {
  "kernelspec": {
   "display_name": "Python 3",
   "language": "python",
   "name": "python3"
  },
  "language_info": {
   "codemirror_mode": {
    "name": "ipython",
    "version": 3
   },
   "file_extension": ".py",
   "mimetype": "text/x-python",
   "name": "python",
   "nbconvert_exporter": "python",
   "pygments_lexer": "ipython3",
   "version": "3.5.1"
  }
 },
 "nbformat": 4,
 "nbformat_minor": 0
}
